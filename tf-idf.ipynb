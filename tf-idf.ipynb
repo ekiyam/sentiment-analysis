{
 "cells": [
  {
   "cell_type": "code",
   "execution_count": 1,
   "metadata": {},
   "outputs": [],
   "source": [
    "import re   # for regular expressions\n",
    "import nltk # for text manipulation\n",
    "import string\n",
    "import warnings\n",
    "import numpy as np\n",
    "import pandas as pd\n",
    "import seaborn as sns\n",
    "import matplotlib.pyplot as plt"
   ]
  },
  {
   "cell_type": "code",
   "execution_count": 2,
   "metadata": {},
   "outputs": [
    {
     "name": "stdout",
     "output_type": "stream",
     "text": [
      "    _unit_id  _golden _unit_state  _trusted_judgments _last_judgment_at  \\\n",
      "0  681448150    False   finalized                   3      2/25/15 5:24   \n",
      "1  681448153    False   finalized                   3      2/25/15 1:53   \n",
      "2  681448156    False   finalized                   3     2/25/15 10:01   \n",
      "3  681448158    False   finalized                   3      2/25/15 3:05   \n",
      "4  681448159    False   finalized                   3      2/25/15 5:50   \n",
      "\n",
      "  airline_sentiment  airline_sentiment:confidence negativereason  \\\n",
      "0           neutral                        1.0000            NaN   \n",
      "1          positive                        0.3486            NaN   \n",
      "2           neutral                        0.6837            NaN   \n",
      "3          negative                        1.0000     Bad Flight   \n",
      "4          negative                        1.0000     Can't Tell   \n",
      "\n",
      "   negativereason:confidence         airline airline_sentiment_gold  \\\n",
      "0                        NaN  Virgin America                    NaN   \n",
      "1                     0.0000  Virgin America                    NaN   \n",
      "2                        NaN  Virgin America                    NaN   \n",
      "3                     0.7033  Virgin America                    NaN   \n",
      "4                     1.0000  Virgin America                    NaN   \n",
      "\n",
      "         name negativereason_gold  retweet_count  \\\n",
      "0     cairdin                 NaN              0   \n",
      "1    jnardino                 NaN              0   \n",
      "2  yvonnalynn                 NaN              0   \n",
      "3    jnardino                 NaN              0   \n",
      "4    jnardino                 NaN              0   \n",
      "\n",
      "                                                text tweet_coord  \\\n",
      "0                @VirginAmerica What @dhepburn said.         NaN   \n",
      "1  @VirginAmerica plus you've added commercials t...         NaN   \n",
      "2  @VirginAmerica I didn't today... Must mean I n...         NaN   \n",
      "3  @VirginAmerica it's really aggressive to blast...         NaN   \n",
      "4  @VirginAmerica and it's a really big bad thing...         NaN   \n",
      "\n",
      "   tweet_created      tweet_id tweet_location               user_timezone  \n",
      "0  2/24/15 11:35  5.703060e+17            NaN  Eastern Time (US & Canada)  \n",
      "1  2/24/15 11:15  5.703010e+17            NaN  Pacific Time (US & Canada)  \n",
      "2  2/24/15 11:15  5.703010e+17      Lets Play  Central Time (US & Canada)  \n",
      "3  2/24/15 11:15  5.703010e+17            NaN  Pacific Time (US & Canada)  \n",
      "4  2/24/15 11:14  5.703010e+17            NaN  Pacific Time (US & Canada)  \n"
     ]
    }
   ],
   "source": [
    "# Try reading the file with a different encoding\n",
    "file_path = 'D:\\Program Files\\PFE\\SA_pipline\\Airline-Sentiment-2-w-AA.csv'\n",
    "\n",
    "# Try with 'latin1' encoding\n",
    "try:\n",
    "    data = pd.read_csv(file_path, encoding='latin1')\n",
    "except UnicodeDecodeError:\n",
    "    # Try with 'iso-8859-1' encoding if 'latin1' fails\n",
    "    data = pd.read_csv(file_path, encoding='iso-8859-1')\n",
    "\n",
    "print(data.head())"
   ]
  },
  {
   "cell_type": "code",
   "execution_count": 3,
   "metadata": {},
   "outputs": [
    {
     "data": {
      "text/html": [
       "<div>\n",
       "<style scoped>\n",
       "    .dataframe tbody tr th:only-of-type {\n",
       "        vertical-align: middle;\n",
       "    }\n",
       "\n",
       "    .dataframe tbody tr th {\n",
       "        vertical-align: top;\n",
       "    }\n",
       "\n",
       "    .dataframe thead th {\n",
       "        text-align: right;\n",
       "    }\n",
       "</style>\n",
       "<table border=\"1\" class=\"dataframe\">\n",
       "  <thead>\n",
       "    <tr style=\"text-align: right;\">\n",
       "      <th></th>\n",
       "      <th>text</th>\n",
       "      <th>airline_sentiment</th>\n",
       "    </tr>\n",
       "  </thead>\n",
       "  <tbody>\n",
       "    <tr>\n",
       "      <th>0</th>\n",
       "      <td>@VirginAmerica What @dhepburn said.</td>\n",
       "      <td>neutral</td>\n",
       "    </tr>\n",
       "    <tr>\n",
       "      <th>1</th>\n",
       "      <td>@VirginAmerica plus you've added commercials t...</td>\n",
       "      <td>positive</td>\n",
       "    </tr>\n",
       "    <tr>\n",
       "      <th>2</th>\n",
       "      <td>@VirginAmerica I didn't today... Must mean I n...</td>\n",
       "      <td>neutral</td>\n",
       "    </tr>\n",
       "    <tr>\n",
       "      <th>3</th>\n",
       "      <td>@VirginAmerica it's really aggressive to blast...</td>\n",
       "      <td>negative</td>\n",
       "    </tr>\n",
       "    <tr>\n",
       "      <th>4</th>\n",
       "      <td>@VirginAmerica and it's a really big bad thing...</td>\n",
       "      <td>negative</td>\n",
       "    </tr>\n",
       "  </tbody>\n",
       "</table>\n",
       "</div>"
      ],
      "text/plain": [
       "                                                text airline_sentiment\n",
       "0                @VirginAmerica What @dhepburn said.           neutral\n",
       "1  @VirginAmerica plus you've added commercials t...          positive\n",
       "2  @VirginAmerica I didn't today... Must mean I n...           neutral\n",
       "3  @VirginAmerica it's really aggressive to blast...          negative\n",
       "4  @VirginAmerica and it's a really big bad thing...          negative"
      ]
     },
     "execution_count": 3,
     "metadata": {},
     "output_type": "execute_result"
    }
   ],
   "source": [
    "data = data.loc[:, ['text', 'airline_sentiment']]\n",
    "data.head()"
   ]
  },
  {
   "cell_type": "code",
   "execution_count": 4,
   "metadata": {},
   "outputs": [],
   "source": [
    "def remove_pattern(input_txt, pattern):\n",
    "  r = re.findall(pattern, input_txt)\n",
    "  for i in r:\n",
    "    input_txt = re.sub(i, '', input_txt)\n",
    "  return input_txt"
   ]
  },
  {
   "cell_type": "code",
   "execution_count": 5,
   "metadata": {},
   "outputs": [
    {
     "data": {
      "text/html": [
       "<div>\n",
       "<style scoped>\n",
       "    .dataframe tbody tr th:only-of-type {\n",
       "        vertical-align: middle;\n",
       "    }\n",
       "\n",
       "    .dataframe tbody tr th {\n",
       "        vertical-align: top;\n",
       "    }\n",
       "\n",
       "    .dataframe thead th {\n",
       "        text-align: right;\n",
       "    }\n",
       "</style>\n",
       "<table border=\"1\" class=\"dataframe\">\n",
       "  <thead>\n",
       "    <tr style=\"text-align: right;\">\n",
       "      <th></th>\n",
       "      <th>tweet</th>\n",
       "      <th>airline_sentiment</th>\n",
       "      <th>text</th>\n",
       "    </tr>\n",
       "  </thead>\n",
       "  <tbody>\n",
       "    <tr>\n",
       "      <th>0</th>\n",
       "      <td>What  said.</td>\n",
       "      <td>neutral</td>\n",
       "      <td>@VirginAmerica What @dhepburn said.</td>\n",
       "    </tr>\n",
       "    <tr>\n",
       "      <th>1</th>\n",
       "      <td>plus you've added commercials to the experien...</td>\n",
       "      <td>positive</td>\n",
       "      <td>@VirginAmerica plus you've added commercials t...</td>\n",
       "    </tr>\n",
       "    <tr>\n",
       "      <th>2</th>\n",
       "      <td>I didn't today... Must mean I need to take an...</td>\n",
       "      <td>neutral</td>\n",
       "      <td>@VirginAmerica I didn't today... Must mean I n...</td>\n",
       "    </tr>\n",
       "    <tr>\n",
       "      <th>3</th>\n",
       "      <td>it's really aggressive to blast obnoxious \"en...</td>\n",
       "      <td>negative</td>\n",
       "      <td>@VirginAmerica it's really aggressive to blast...</td>\n",
       "    </tr>\n",
       "    <tr>\n",
       "      <th>4</th>\n",
       "      <td>and it's a really big bad thing about it</td>\n",
       "      <td>negative</td>\n",
       "      <td>@VirginAmerica and it's a really big bad thing...</td>\n",
       "    </tr>\n",
       "  </tbody>\n",
       "</table>\n",
       "</div>"
      ],
      "text/plain": [
       "                                               tweet airline_sentiment  \\\n",
       "0                                        What  said.           neutral   \n",
       "1   plus you've added commercials to the experien...          positive   \n",
       "2   I didn't today... Must mean I need to take an...           neutral   \n",
       "3   it's really aggressive to blast obnoxious \"en...          negative   \n",
       "4           and it's a really big bad thing about it          negative   \n",
       "\n",
       "                                                text  \n",
       "0                @VirginAmerica What @dhepburn said.  \n",
       "1  @VirginAmerica plus you've added commercials t...  \n",
       "2  @VirginAmerica I didn't today... Must mean I n...  \n",
       "3  @VirginAmerica it's really aggressive to blast...  \n",
       "4  @VirginAmerica and it's a really big bad thing...  "
      ]
     },
     "execution_count": 5,
     "metadata": {},
     "output_type": "execute_result"
    }
   ],
   "source": [
    "data['tweet'] = np.vectorize(remove_pattern)(data['text'].astype(str), \"@[\\w]*\")\n",
    "data=data[['tweet','airline_sentiment','text']]\n",
    "data.head()"
   ]
  },
  {
   "cell_type": "code",
   "execution_count": 6,
   "metadata": {},
   "outputs": [
    {
     "data": {
      "text/html": [
       "<div>\n",
       "<style scoped>\n",
       "    .dataframe tbody tr th:only-of-type {\n",
       "        vertical-align: middle;\n",
       "    }\n",
       "\n",
       "    .dataframe tbody tr th {\n",
       "        vertical-align: top;\n",
       "    }\n",
       "\n",
       "    .dataframe thead th {\n",
       "        text-align: right;\n",
       "    }\n",
       "</style>\n",
       "<table border=\"1\" class=\"dataframe\">\n",
       "  <thead>\n",
       "    <tr style=\"text-align: right;\">\n",
       "      <th></th>\n",
       "      <th>tweet</th>\n",
       "      <th>airline_sentiment</th>\n",
       "      <th>text</th>\n",
       "    </tr>\n",
       "  </thead>\n",
       "  <tbody>\n",
       "    <tr>\n",
       "      <th>0</th>\n",
       "      <td>What  said</td>\n",
       "      <td>neutral</td>\n",
       "      <td>@VirginAmerica What @dhepburn said.</td>\n",
       "    </tr>\n",
       "    <tr>\n",
       "      <th>1</th>\n",
       "      <td>plus you ve added commercials to the experien...</td>\n",
       "      <td>positive</td>\n",
       "      <td>@VirginAmerica plus you've added commercials t...</td>\n",
       "    </tr>\n",
       "    <tr>\n",
       "      <th>2</th>\n",
       "      <td>I didn t today    Must mean I need to take an...</td>\n",
       "      <td>neutral</td>\n",
       "      <td>@VirginAmerica I didn't today... Must mean I n...</td>\n",
       "    </tr>\n",
       "    <tr>\n",
       "      <th>3</th>\n",
       "      <td>it s really aggressive to blast obnoxious  en...</td>\n",
       "      <td>negative</td>\n",
       "      <td>@VirginAmerica it's really aggressive to blast...</td>\n",
       "    </tr>\n",
       "    <tr>\n",
       "      <th>4</th>\n",
       "      <td>and it s a really big bad thing about it</td>\n",
       "      <td>negative</td>\n",
       "      <td>@VirginAmerica and it's a really big bad thing...</td>\n",
       "    </tr>\n",
       "    <tr>\n",
       "      <th>5</th>\n",
       "      <td>seriously would pay     a flight for seats th...</td>\n",
       "      <td>negative</td>\n",
       "      <td>@VirginAmerica seriously would pay $30 a fligh...</td>\n",
       "    </tr>\n",
       "    <tr>\n",
       "      <th>6</th>\n",
       "      <td>yes  nearly every time I fly VX this    ear w...</td>\n",
       "      <td>positive</td>\n",
       "      <td>@VirginAmerica yes, nearly every time I fly VX...</td>\n",
       "    </tr>\n",
       "    <tr>\n",
       "      <th>7</th>\n",
       "      <td>Really missed a prime opportunity for Men Wit...</td>\n",
       "      <td>neutral</td>\n",
       "      <td>@VirginAmerica Really missed a prime opportuni...</td>\n",
       "    </tr>\n",
       "    <tr>\n",
       "      <th>8</th>\n",
       "      <td>Well  I didn t   but NOW I DO    D</td>\n",
       "      <td>positive</td>\n",
       "      <td>@virginamerica Well, I didn'tÛ_but NOW I DO! :-D</td>\n",
       "    </tr>\n",
       "    <tr>\n",
       "      <th>9</th>\n",
       "      <td>it was amazing  and arrived an hour early  Yo...</td>\n",
       "      <td>positive</td>\n",
       "      <td>@VirginAmerica it was amazing, and arrived an ...</td>\n",
       "    </tr>\n",
       "  </tbody>\n",
       "</table>\n",
       "</div>"
      ],
      "text/plain": [
       "                                               tweet airline_sentiment  \\\n",
       "0                                        What  said            neutral   \n",
       "1   plus you ve added commercials to the experien...          positive   \n",
       "2   I didn t today    Must mean I need to take an...           neutral   \n",
       "3   it s really aggressive to blast obnoxious  en...          negative   \n",
       "4           and it s a really big bad thing about it          negative   \n",
       "5   seriously would pay     a flight for seats th...          negative   \n",
       "6   yes  nearly every time I fly VX this    ear w...          positive   \n",
       "7   Really missed a prime opportunity for Men Wit...           neutral   \n",
       "8                 Well  I didn t   but NOW I DO    D          positive   \n",
       "9   it was amazing  and arrived an hour early  Yo...          positive   \n",
       "\n",
       "                                                text  \n",
       "0                @VirginAmerica What @dhepburn said.  \n",
       "1  @VirginAmerica plus you've added commercials t...  \n",
       "2  @VirginAmerica I didn't today... Must mean I n...  \n",
       "3  @VirginAmerica it's really aggressive to blast...  \n",
       "4  @VirginAmerica and it's a really big bad thing...  \n",
       "5  @VirginAmerica seriously would pay $30 a fligh...  \n",
       "6  @VirginAmerica yes, nearly every time I fly VX...  \n",
       "7  @VirginAmerica Really missed a prime opportuni...  \n",
       "8  @virginamerica Well, I didn'tÛ_but NOW I DO! :-D  \n",
       "9  @VirginAmerica it was amazing, and arrived an ...  "
      ]
     },
     "execution_count": 6,
     "metadata": {},
     "output_type": "execute_result"
    }
   ],
   "source": [
    "data['tweet'] = data['tweet'].apply(lambda x: re.sub(r\"[^a-zA-Z#]\", \" \", x))\n",
    "data.head(10)\n"
   ]
  },
  {
   "cell_type": "code",
   "execution_count": 7,
   "metadata": {},
   "outputs": [
    {
     "data": {
      "text/html": [
       "<div>\n",
       "<style scoped>\n",
       "    .dataframe tbody tr th:only-of-type {\n",
       "        vertical-align: middle;\n",
       "    }\n",
       "\n",
       "    .dataframe tbody tr th {\n",
       "        vertical-align: top;\n",
       "    }\n",
       "\n",
       "    .dataframe thead th {\n",
       "        text-align: right;\n",
       "    }\n",
       "</style>\n",
       "<table border=\"1\" class=\"dataframe\">\n",
       "  <thead>\n",
       "    <tr style=\"text-align: right;\">\n",
       "      <th></th>\n",
       "      <th>tweet</th>\n",
       "      <th>airline_sentiment</th>\n",
       "      <th>text</th>\n",
       "    </tr>\n",
       "  </thead>\n",
       "  <tbody>\n",
       "    <tr>\n",
       "      <th>0</th>\n",
       "      <td>What said</td>\n",
       "      <td>neutral</td>\n",
       "      <td>@VirginAmerica What @dhepburn said.</td>\n",
       "    </tr>\n",
       "    <tr>\n",
       "      <th>1</th>\n",
       "      <td>plus added commercials experience tacky</td>\n",
       "      <td>positive</td>\n",
       "      <td>@VirginAmerica plus you've added commercials t...</td>\n",
       "    </tr>\n",
       "    <tr>\n",
       "      <th>2</th>\n",
       "      <td>didn today Must mean need take another trip</td>\n",
       "      <td>neutral</td>\n",
       "      <td>@VirginAmerica I didn't today... Must mean I n...</td>\n",
       "    </tr>\n",
       "    <tr>\n",
       "      <th>3</th>\n",
       "      <td>really aggressive blast obnoxious entertainmen...</td>\n",
       "      <td>negative</td>\n",
       "      <td>@VirginAmerica it's really aggressive to blast...</td>\n",
       "    </tr>\n",
       "    <tr>\n",
       "      <th>4</th>\n",
       "      <td>really thing about</td>\n",
       "      <td>negative</td>\n",
       "      <td>@VirginAmerica and it's a really big bad thing...</td>\n",
       "    </tr>\n",
       "    <tr>\n",
       "      <th>5</th>\n",
       "      <td>seriously would flight seats that didn have th...</td>\n",
       "      <td>negative</td>\n",
       "      <td>@VirginAmerica seriously would pay $30 a fligh...</td>\n",
       "    </tr>\n",
       "    <tr>\n",
       "      <th>6</th>\n",
       "      <td>nearly every time this worm away</td>\n",
       "      <td>positive</td>\n",
       "      <td>@VirginAmerica yes, nearly every time I fly VX...</td>\n",
       "    </tr>\n",
       "    <tr>\n",
       "      <th>7</th>\n",
       "      <td>Really missed prime opportunity Without Hats p...</td>\n",
       "      <td>neutral</td>\n",
       "      <td>@VirginAmerica Really missed a prime opportuni...</td>\n",
       "    </tr>\n",
       "    <tr>\n",
       "      <th>8</th>\n",
       "      <td>Well didn</td>\n",
       "      <td>positive</td>\n",
       "      <td>@virginamerica Well, I didn'tÛ_but NOW I DO! :-D</td>\n",
       "    </tr>\n",
       "    <tr>\n",
       "      <th>9</th>\n",
       "      <td>amazing arrived hour early good</td>\n",
       "      <td>positive</td>\n",
       "      <td>@VirginAmerica it was amazing, and arrived an ...</td>\n",
       "    </tr>\n",
       "  </tbody>\n",
       "</table>\n",
       "</div>"
      ],
      "text/plain": [
       "                                               tweet airline_sentiment  \\\n",
       "0                                          What said           neutral   \n",
       "1            plus added commercials experience tacky          positive   \n",
       "2        didn today Must mean need take another trip           neutral   \n",
       "3  really aggressive blast obnoxious entertainmen...          negative   \n",
       "4                                 really thing about          negative   \n",
       "5  seriously would flight seats that didn have th...          negative   \n",
       "6                   nearly every time this worm away          positive   \n",
       "7  Really missed prime opportunity Without Hats p...           neutral   \n",
       "8                                          Well didn          positive   \n",
       "9                    amazing arrived hour early good          positive   \n",
       "\n",
       "                                                text  \n",
       "0                @VirginAmerica What @dhepburn said.  \n",
       "1  @VirginAmerica plus you've added commercials t...  \n",
       "2  @VirginAmerica I didn't today... Must mean I n...  \n",
       "3  @VirginAmerica it's really aggressive to blast...  \n",
       "4  @VirginAmerica and it's a really big bad thing...  \n",
       "5  @VirginAmerica seriously would pay $30 a fligh...  \n",
       "6  @VirginAmerica yes, nearly every time I fly VX...  \n",
       "7  @VirginAmerica Really missed a prime opportuni...  \n",
       "8  @virginamerica Well, I didn'tÛ_but NOW I DO! :-D  \n",
       "9  @VirginAmerica it was amazing, and arrived an ...  "
      ]
     },
     "execution_count": 7,
     "metadata": {},
     "output_type": "execute_result"
    }
   ],
   "source": [
    "data['tweet'] = data['tweet'].apply(lambda x: ' '.join([w for w in x.split() if len(w)>3]))\n",
    "data.head(10)"
   ]
  },
  {
   "cell_type": "code",
   "execution_count": 8,
   "metadata": {},
   "outputs": [
    {
     "data": {
      "text/plain": [
       "0                                         [What, said]\n",
       "1        [plus, added, commercials, experience, tacky]\n",
       "2    [didn, today, Must, mean, need, take, another,...\n",
       "3    [really, aggressive, blast, obnoxious, enterta...\n",
       "4                               [really, thing, about]\n",
       "Name: tweet, dtype: object"
      ]
     },
     "execution_count": 8,
     "metadata": {},
     "output_type": "execute_result"
    }
   ],
   "source": [
    "tokenized_tweet = data['tweet'].apply(lambda x: x.split()) # tokenizing\n",
    "tokenized_tweet.head()"
   ]
  },
  {
   "cell_type": "code",
   "execution_count": 9,
   "metadata": {},
   "outputs": [],
   "source": [
    "from nltk.stem.porter import *\n",
    "stemmer = PorterStemmer()\n",
    "tokenized_tweet = tokenized_tweet.apply(lambda x: [stemmer.stem(i) for i in x]) # stemming\n"
   ]
  },
  {
   "cell_type": "code",
   "execution_count": 10,
   "metadata": {},
   "outputs": [],
   "source": [
    "for i in range(len(tokenized_tweet)):\n",
    "       tokenized_tweet[i] = ' '.join(tokenized_tweet[i])\n",
    "data['tweet'] = tokenized_tweet\n"
   ]
  },
  {
   "cell_type": "code",
   "execution_count": 11,
   "metadata": {},
   "outputs": [],
   "source": [
    "from sklearn.feature_extraction.text import TfidfVectorizer, CountVectorizer\n",
    "import gensim"
   ]
  },
  {
   "cell_type": "code",
   "execution_count": 12,
   "metadata": {},
   "outputs": [
    {
     "data": {
      "text/plain": [
       "(14640, 1000)"
      ]
     },
     "execution_count": 12,
     "metadata": {},
     "output_type": "execute_result"
    }
   ],
   "source": [
    "tfidf_vectorizer = TfidfVectorizer(max_df=0.90, min_df=2, max_features=1000, stop_words='english')\n",
    "tfidf = tfidf_vectorizer.fit_transform(data['tweet'])\n",
    "tfidf.shape"
   ]
  },
  {
   "cell_type": "code",
   "execution_count": 13,
   "metadata": {},
   "outputs": [
    {
     "data": {
      "text/html": [
       "<div>\n",
       "<style scoped>\n",
       "    .dataframe tbody tr th:only-of-type {\n",
       "        vertical-align: middle;\n",
       "    }\n",
       "\n",
       "    .dataframe tbody tr th {\n",
       "        vertical-align: top;\n",
       "    }\n",
       "\n",
       "    .dataframe thead th {\n",
       "        text-align: right;\n",
       "    }\n",
       "</style>\n",
       "<table border=\"1\" class=\"dataframe\">\n",
       "  <thead>\n",
       "    <tr style=\"text-align: right;\">\n",
       "      <th></th>\n",
       "      <th>tweet</th>\n",
       "      <th>airline_sentiment</th>\n",
       "      <th>text</th>\n",
       "    </tr>\n",
       "  </thead>\n",
       "  <tbody>\n",
       "    <tr>\n",
       "      <th>0</th>\n",
       "      <td>what said</td>\n",
       "      <td>neutral</td>\n",
       "      <td>@VirginAmerica What @dhepburn said.</td>\n",
       "    </tr>\n",
       "    <tr>\n",
       "      <th>1</th>\n",
       "      <td>plu ad commerci experi tacki</td>\n",
       "      <td>positive</td>\n",
       "      <td>@VirginAmerica plus you've added commercials t...</td>\n",
       "    </tr>\n",
       "    <tr>\n",
       "      <th>2</th>\n",
       "      <td>didn today must mean need take anoth trip</td>\n",
       "      <td>neutral</td>\n",
       "      <td>@VirginAmerica I didn't today... Must mean I n...</td>\n",
       "    </tr>\n",
       "    <tr>\n",
       "      <th>3</th>\n",
       "      <td>realli aggress blast obnoxi entertain your gue...</td>\n",
       "      <td>negative</td>\n",
       "      <td>@VirginAmerica it's really aggressive to blast...</td>\n",
       "    </tr>\n",
       "    <tr>\n",
       "      <th>4</th>\n",
       "      <td>realli thing about</td>\n",
       "      <td>negative</td>\n",
       "      <td>@VirginAmerica and it's a really big bad thing...</td>\n",
       "    </tr>\n",
       "  </tbody>\n",
       "</table>\n",
       "</div>"
      ],
      "text/plain": [
       "                                               tweet airline_sentiment  \\\n",
       "0                                          what said           neutral   \n",
       "1                       plu ad commerci experi tacki          positive   \n",
       "2          didn today must mean need take anoth trip           neutral   \n",
       "3  realli aggress blast obnoxi entertain your gue...          negative   \n",
       "4                                 realli thing about          negative   \n",
       "\n",
       "                                                text  \n",
       "0                @VirginAmerica What @dhepburn said.  \n",
       "1  @VirginAmerica plus you've added commercials t...  \n",
       "2  @VirginAmerica I didn't today... Must mean I n...  \n",
       "3  @VirginAmerica it's really aggressive to blast...  \n",
       "4  @VirginAmerica and it's a really big bad thing...  "
      ]
     },
     "execution_count": 13,
     "metadata": {},
     "output_type": "execute_result"
    }
   ],
   "source": [
    "data.head()"
   ]
  },
  {
   "cell_type": "code",
   "execution_count": 14,
   "metadata": {},
   "outputs": [],
   "source": [
    "# Remplacement des étiquettes par des valeurs numériques\n",
    "label_mapping = {\n",
    "    \"neutral\": 1,\n",
    "    \"positive\": 2,\n",
    "    \"negative\": 0\n",
    "}\n",
    "data['label_numeric'] = data['airline_sentiment'].map(label_mapping)\n",
    "X = tfidf  # Features\n",
    "y = data['label_numeric']  # Labels"
   ]
  },
  {
   "cell_type": "code",
   "execution_count": 16,
   "metadata": {},
   "outputs": [
    {
     "data": {
      "text/plain": [
       "(14640,)"
      ]
     },
     "execution_count": 16,
     "metadata": {},
     "output_type": "execute_result"
    }
   ],
   "source": [
    "y.shape"
   ]
  },
  {
   "cell_type": "code",
   "execution_count": 15,
   "metadata": {},
   "outputs": [],
   "source": [
    "# Diviser les données en ensembles d'entraînement et de test\n",
    "from sklearn.model_selection import train_test_split\n",
    "\n",
    "X_train, X_test, y_train, y_test = train_test_split(X, y, test_size=0.2, random_state=42)"
   ]
  },
  {
   "cell_type": "code",
   "execution_count": 16,
   "metadata": {},
   "outputs": [
    {
     "name": "stdout",
     "output_type": "stream",
     "text": [
      "Accuracy: 0.7595628415300546\n",
      "Classification Report:\n",
      "              precision    recall  f1-score   support\n",
      "\n",
      "           0       0.81      0.89      0.85      1889\n",
      "           1       0.58      0.45      0.51       580\n",
      "           2       0.72      0.61      0.66       459\n",
      "\n",
      "    accuracy                           0.76      2928\n",
      "   macro avg       0.70      0.65      0.67      2928\n",
      "weighted avg       0.75      0.76      0.75      2928\n",
      "\n",
      "AUC-ROC (macro): 0.8550054163518758\n",
      "CV-Accuracy: 0.7466693127738822\n"
     ]
    }
   ],
   "source": [
    "# Importer les bibliothèques nécessaires\n",
    "from sklearn.ensemble import RandomForestClassifier\n",
    "from sklearn.metrics import accuracy_score, classification_report, roc_auc_score\n",
    "from sklearn.model_selection import cross_val_score\n",
    "from sklearn.preprocessing import label_binarize\n",
    "\n",
    "# Entraîner un modèle de classification (exemple avec Random Forest)\n",
    "model = RandomForestClassifier()\n",
    "model.fit(X_train, y_train)\n",
    "\n",
    "# Prédire les étiquettes sur l'ensemble de test\n",
    "y_pred = model.predict(X_test)\n",
    "\n",
    "# Évaluer la performance du modèle\n",
    "accuracy = accuracy_score(y_test, y_pred)\n",
    "print(\"Accuracy:\", accuracy)\n",
    "\n",
    "# Afficher un rapport de classification détaillé\n",
    "print(\"Classification Report:\")\n",
    "print(classification_report(y_test, y_pred))\n",
    "\n",
    "# Calculer l'AUC-ROC pour chaque classe (nécessite des scores de probabilité)\n",
    "y_prob = model.predict_proba(X_test)\n",
    "y_test_binarized = label_binarize(y_test, classes=[0, 1, 2]) # adapter selon vos classes\n",
    "\n",
    "# Calcul de l'AUC-ROC pour chaque classe et la moyenne macro\n",
    "auc_roc = roc_auc_score(y_test_binarized, y_prob, average='macro')\n",
    "print(\"AUC-ROC (macro):\", auc_roc)\n",
    "\n",
    "# Calcul de la précision de validation croisée (CV-Accuracy)\n",
    "cv_scores = cross_val_score(model, X_train, y_train, cv=5)\n",
    "cv_accuracy = cv_scores.mean()\n",
    "print(\"CV-Accuracy:\", cv_accuracy)\n"
   ]
  },
  {
   "cell_type": "code",
   "execution_count": 18,
   "metadata": {},
   "outputs": [
    {
     "name": "stdout",
     "output_type": "stream",
     "text": [
      "Accuracy: 0.7581967213114754\n",
      "Classification Report:\n",
      "              precision    recall  f1-score   support\n",
      "\n",
      "           0       0.81      0.89      0.85      1889\n",
      "           1       0.58      0.46      0.51       580\n",
      "           2       0.69      0.61      0.65       459\n",
      "\n",
      "    accuracy                           0.76      2928\n",
      "   macro avg       0.69      0.65      0.67      2928\n",
      "weighted avg       0.75      0.76      0.75      2928\n",
      "\n"
     ]
    }
   ],
   "source": [
    "# Entraîner un modèle de classification (exemple avec Random Forest)\n",
    "from sklearn.ensemble import RandomForestClassifier\n",
    "\n",
    "model = RandomForestClassifier()\n",
    "model.fit(X_train, y_train)\n",
    "\n",
    "# Prédire les étiquettes sur l'ensemble de test\n",
    "y_pred = model.predict(X_test)\n",
    "\n",
    "# Évaluer la performance du modèle\n",
    "from sklearn.metrics import accuracy_score, classification_report\n",
    "\n",
    "accuracy = accuracy_score(y_test, y_pred)\n",
    "print(\"Accuracy:\", accuracy)\n",
    "\n",
    "# Afficher un rapport de classification détaillé\n",
    "print(\"Classification Report:\")\n",
    "print(classification_report(y_test, y_pred))\n"
   ]
  },
  {
   "cell_type": "code",
   "execution_count": 19,
   "metadata": {},
   "outputs": [
    {
     "data": {
      "image/png": "[encoded data removed]",
      "text/plain": [
       "<Figure size 640x480 with 2 Axes>"
      ]
     },
     "metadata": {},
     "output_type": "display_data"
    }
   ],
   "source": [
    "from sklearn.metrics import confusion_matrix, classification_report\n",
    "\n",
    "y_pred = model.predict(X_test)\n",
    "y_true = y_test\n",
    "\n",
    "# Calcul de la matrice de confusion\n",
    "CM = confusion_matrix(y_true, y_pred)\n",
    "\n",
    "# Affichage de la matrice de confusion avec seaborn\n",
    "sns.heatmap(CM, annot=True, center=True, fmt='g', cmap='Blues')\n",
    "plt.xlabel('Predicted')\n",
    "plt.ylabel('Actual')\n",
    "plt.show()"
   ]
  },
  {
   "cell_type": "code",
   "execution_count": 25,
   "metadata": {},
   "outputs": [
    {
     "name": "stdout",
     "output_type": "stream",
     "text": [
      "F1 Score: 0.7841530054644809\n",
      "Accuracy: 0.7841530054644809\n",
      "Classification Report:\n",
      "              precision    recall  f1-score   support\n",
      "\n",
      "           0       0.80      0.94      0.87      1889\n",
      "           1       0.67      0.42      0.51       580\n",
      "           2       0.79      0.61      0.69       459\n",
      "\n",
      "    accuracy                           0.78      2928\n",
      "   macro avg       0.75      0.66      0.69      2928\n",
      "weighted avg       0.77      0.78      0.77      2928\n",
      "\n"
     ]
    }
   ],
   "source": [
    "from sklearn.linear_model import LogisticRegression\n",
    "from sklearn.metrics import f1_score, accuracy_score, classification_report\n",
    "from sklearn.multiclass import OneVsRestClassifier\n",
    "import numpy as np\n",
    "\n",
    "# Initialization of the logistic regression model with OneVsRestClassifier\n",
    "lreg = OneVsRestClassifier(LogisticRegression())\n",
    "\n",
    "# Training the model on the training set\n",
    "lreg.fit(X_train, y_train)\n",
    "\n",
    "# Predicting probabilities on the test set\n",
    "predictionlreg = lreg.predict_proba(X_test)\n",
    "\n",
    "# For a multiclass problem, we take the class with the highest probability\n",
    "# Adjust the threshold for binary cases\n",
    "threshold = 0.3\n",
    "prediction_int = (predictionlreg >= threshold).astype(int)\n",
    "\n",
    "# Adjust to take the class with the highest probability\n",
    "# For multiclass, consider the class with the highest probability\n",
    "# Use the index of the maximum probability for each example\n",
    "y_predlreg = np.argmax(predictionlreg, axis=1)\n",
    "\n",
    "# Calculate F1 score on the validation set\n",
    "f1lreg = f1_score(y_test, y_predlreg, average='micro')\n",
    "\n",
    "# Calculate accuracy on the validation set\n",
    "accuracylreg = accuracy_score(y_test, y_predlreg)\n",
    "print(\"F1 Score:\", f1lreg)\n",
    "print(\"Accuracy:\", accuracylreg)\n",
    "\n",
    "# Display a detailed classification report\n",
    "print(\"Classification Report:\")\n",
    "print(classification_report(y_test, y_predlreg))\n"
   ]
  },
  {
   "cell_type": "code",
   "execution_count": 27,
   "metadata": {},
   "outputs": [
    {
     "data": {
      "image/png": "[encoded data removed]",
      "text/plain": [
       "<Figure size 640x480 with 2 Axes>"
      ]
     },
     "metadata": {},
     "output_type": "display_data"
    }
   ],
   "source": [
    "y_predlreg = lreg.predict(X_test)\n",
    "y_true = y_test\n",
    "\n",
    "# Calcul de la matrice de confusion\n",
    "CM = confusion_matrix(y_true, y_predlreg)\n",
    "\n",
    "# Affichage de la matrice de confusion avec seaborn\n",
    "sns.heatmap(CM, annot=True, center=True, fmt='g', cmap='Blues')\n",
    "plt.xlabel('Predicted')\n",
    "plt.ylabel('Actual')\n",
    "plt.show()"
   ]
  },
  {
   "cell_type": "code",
   "execution_count": 28,
   "metadata": {},
   "outputs": [
    {
     "name": "stdout",
     "output_type": "stream",
     "text": [
      "F1 Score: 0.7817622950819672\n",
      "Accuracy: 0.7817622950819673\n",
      "Classification Report:\n",
      "              precision    recall  f1-score   support\n",
      "\n",
      "           0       0.82      0.91      0.86      1889\n",
      "           1       0.62      0.47      0.53       580\n",
      "           2       0.74      0.66      0.70       459\n",
      "\n",
      "    accuracy                           0.78      2928\n",
      "   macro avg       0.73      0.68      0.70      2928\n",
      "weighted avg       0.77      0.78      0.77      2928\n",
      "\n"
     ]
    }
   ],
   "source": [
    "from sklearn import svm\n",
    "from sklearn.metrics import f1_score, accuracy_score\n",
    "import numpy as np\n",
    "\n",
    "# Initialiser et entraîner le modèle SVM avec un noyau linéaire\n",
    "svc = svm.SVC(kernel='linear', C=1, probability=True).fit(X_train, y_train)\n",
    "\n",
    "# Prédiction des probabilités sur l'ensemble de test\n",
    "predictionsvm = svc.predict_proba(X_test)\n",
    "\n",
    "# Trouver la classe avec la probabilité la plus élevée pour chaque échantillon\n",
    "y_predsvm = np.argmax(predictionsvm, axis=1)\n",
    "\n",
    "# Calcul du F1 score pour l'ensemble de validation\n",
    "f1SVM = f1_score(y_test, y_predsvm, average='micro')\n",
    "\n",
    "# Calcul de l'accuracy pour l'ensemble de validation\n",
    "accuracy_SVM = accuracy_score(y_test, y_predsvm)\n",
    "\n",
    "print(\"F1 Score:\", f1SVM)\n",
    "print(\"Accuracy:\", accuracy_SVM)\n",
    "# Display a detailed classification report\n",
    "print(\"Classification Report:\")\n",
    "print(classification_report(y_test, y_predsvm))\n"
   ]
  },
  {
   "cell_type": "code",
   "execution_count": 29,
   "metadata": {},
   "outputs": [
    {
     "data": {
      "image/png": "[encoded data removed]",
      "text/plain": [
       "<Figure size 640x480 with 2 Axes>"
      ]
     },
     "metadata": {},
     "output_type": "display_data"
    }
   ],
   "source": [
    "y_predsvm = svc.predict(X_test)\n",
    "y_true = y_test\n",
    "\n",
    "# Calcul de la matrice de confusion\n",
    "CM = confusion_matrix(y_true, y_predsvm)\n",
    "\n",
    "# Affichage de la matrice de confusion avec seaborn\n",
    "sns.heatmap(CM, annot=True, center=True, fmt='g', cmap='Blues')\n",
    "plt.xlabel('Predicted')\n",
    "plt.ylabel('Actual')\n",
    "plt.show()"
   ]
  },
  {
   "cell_type": "code",
   "execution_count": 30,
   "metadata": {},
   "outputs": [
    {
     "name": "stdout",
     "output_type": "stream",
     "text": [
      "F1 Score: 0.7752732240437158\n",
      "Accuracy: 0.7752732240437158\n",
      "Classification Report:\n",
      "              precision    recall  f1-score   support\n",
      "\n",
      "           0       0.83      0.89      0.86      1889\n",
      "           1       0.59      0.52      0.55       580\n",
      "           2       0.71      0.64      0.68       459\n",
      "\n",
      "    accuracy                           0.78      2928\n",
      "   macro avg       0.71      0.68      0.70      2928\n",
      "weighted avg       0.77      0.78      0.77      2928\n",
      "\n"
     ]
    }
   ],
   "source": [
    "from xgboost import XGBClassifier\n",
    "from sklearn.metrics import f1_score, accuracy_score\n",
    "from sklearn.model_selection import train_test_split\n",
    "\n",
    "# Supposons que 'bow' représente les features extraites avec Bag-of-Words\n",
    "# et 'df['label_numeric']' représente les labels numériques.\n",
    "\n",
    "\n",
    "# Entraînement du modèle XGBoost\n",
    "xgb_model = XGBClassifier(max_depth=6, n_estimators=1000)\n",
    "xgb_model.fit(X_train, y_train)\n",
    "\n",
    "# Prédictions sur l'ensemble de validation\n",
    "prediction_XGB = xgb_model.predict(X_test)\n",
    "\n",
    "# Calcul du F1 score pour l'ensemble de validation\n",
    "f1_XGB = f1_score(y_test, prediction_XGB, average='micro')\n",
    "\n",
    "# Calcul de l'accuracy pour l'ensemble de validation\n",
    "accuracy_XGB = accuracy_score(y_test, prediction_XGB)\n",
    "\n",
    "print(\"F1 Score:\", f1_XGB)\n",
    "print(\"Accuracy:\", accuracy_XGB)\n",
    "# Display a detailed classification report\n",
    "print(\"Classification Report:\")\n",
    "print(classification_report(y_test, prediction_XGB))\n"
   ]
  },
  {
   "cell_type": "code",
   "execution_count": 31,
   "metadata": {},
   "outputs": [
    {
     "data": {
      "image/png": "[encoded data removed]",
      "text/plain": [
       "<Figure size 640x480 with 2 Axes>"
      ]
     },
     "metadata": {},
     "output_type": "display_data"
    }
   ],
   "source": [
    "y_predxgb = xgb_model.predict(X_test)\n",
    "y_true = y_test\n",
    "\n",
    "# Calcul de la matrice de confusion\n",
    "CM = confusion_matrix(y_true, y_predxgb)\n",
    "\n",
    "# Affichage de la matrice de confusion avec seaborn\n",
    "sns.heatmap(CM, annot=True, center=True, fmt='g', cmap='Blues')\n",
    "plt.xlabel('Predicted')\n",
    "plt.ylabel('Actual')\n",
    "plt.show()"
   ]
  },
  {
   "cell_type": "code",
   "execution_count": 32,
   "metadata": {},
   "outputs": [
    {
     "name": "stdout",
     "output_type": "stream",
     "text": [
      "F1 Score: 0.4016393442622951\n",
      "Accuracy: 0.4016393442622951\n",
      "Classification Report:\n",
      "              precision    recall  f1-score   support\n",
      "\n",
      "           0       0.75      0.30      0.43      1889\n",
      "           1       0.23      0.76      0.35       580\n",
      "           2       0.75      0.37      0.49       459\n",
      "\n",
      "    accuracy                           0.40      2928\n",
      "   macro avg       0.58      0.48      0.42      2928\n",
      "weighted avg       0.65      0.40      0.42      2928\n",
      "\n"
     ]
    }
   ],
   "source": [
    "from sklearn.neighbors import KNeighborsClassifier\n",
    "\n",
    "\n",
    "# Initialiser et entraîner le modèle KNN\n",
    "knn_model = KNeighborsClassifier(n_neighbors=5)\n",
    "knn_model.fit(X_train, y_train)\n",
    "\n",
    "# Prédictions sur l'ensemble de validation\n",
    "prediction_knn = knn_model.predict(X_test)\n",
    "\n",
    "# Calcul du F1 score pour l'ensemble de validation\n",
    "f1_knn = f1_score(y_test, prediction_knn, average='micro')\n",
    "\n",
    "# Calcul de l'accuracy pour l'ensemble de validation\n",
    "accuracy_knn = accuracy_score(y_test, prediction_knn)\n",
    "\n",
    "print(\"F1 Score:\", f1_knn)\n",
    "print(\"Accuracy:\", accuracy_knn)\n",
    "print(\"Classification Report:\")\n",
    "print(classification_report(y_test, prediction_knn))\n"
   ]
  },
  {
   "cell_type": "code",
   "execution_count": 33,
   "metadata": {},
   "outputs": [
    {
     "data": {
      "image/png": "[encoded data removed]",
      "text/plain": [
       "<Figure size 640x480 with 2 Axes>"
      ]
     },
     "metadata": {},
     "output_type": "display_data"
    }
   ],
   "source": [
    "y_predknn = knn_model.predict(X_test)\n",
    "y_true = y_test\n",
    "\n",
    "# Calcul de la matrice de confusion\n",
    "CM = confusion_matrix(y_true, y_predknn)\n",
    "\n",
    "# Affichage de la matrice de confusion avec seaborn\n",
    "sns.heatmap(CM, annot=True, center=True, fmt='g', cmap='Blues')\n",
    "plt.xlabel('Predicted')\n",
    "plt.ylabel('Actual')\n",
    "plt.show()"
   ]
  },
  {
   "cell_type": "code",
   "execution_count": 34,
   "metadata": {},
   "outputs": [
    {
     "name": "stdout",
     "output_type": "stream",
     "text": [
      "F1 Score: 0.7564890710382515\n",
      "Accuracy: 0.7564890710382514\n",
      "Classification Report:\n",
      "              precision    recall  f1-score   support\n",
      "\n",
      "           0       0.75      0.97      0.85      1889\n",
      "           1       0.70      0.28      0.40       580\n",
      "           2       0.86      0.46      0.60       459\n",
      "\n",
      "    accuracy                           0.76      2928\n",
      "   macro avg       0.77      0.57      0.62      2928\n",
      "weighted avg       0.76      0.76      0.72      2928\n",
      "\n"
     ]
    }
   ],
   "source": [
    "from sklearn.naive_bayes import MultinomialNB\n",
    "# Initialiser et entraîner le modèle Naive Bayes multinomial\n",
    "nb_model = MultinomialNB()\n",
    "nb_model.fit(X_train, y_train)\n",
    "\n",
    "# Faire des prédictions sur l'ensemble de test\n",
    "prediction_nb = nb_model.predict(X_test)\n",
    "\n",
    "# Calculer le F1 score et l'accuracy\n",
    "f1_nb = f1_score(y_test, prediction_nb, average='micro')\n",
    "accuracy_nb = accuracy_score(y_test, prediction_nb)\n",
    "\n",
    "print(\"F1 Score:\", f1_nb)\n",
    "print(\"Accuracy:\", accuracy_nb)\n",
    "print(\"Classification Report:\")\n",
    "print(classification_report(y_test, prediction_nb))"
   ]
  },
  {
   "cell_type": "code",
   "execution_count": 35,
   "metadata": {},
   "outputs": [
    {
     "data": {
      "image/png": "[encoded data removed]",
      "text/plain": [
       "<Figure size 640x480 with 2 Axes>"
      ]
     },
     "metadata": {},
     "output_type": "display_data"
    }
   ],
   "source": [
    "y_prednb = nb_model.predict(X_test)\n",
    "y_true = y_test\n",
    "\n",
    "# Calcul de la matrice de confusion\n",
    "CM = confusion_matrix(y_true, y_prednb)\n",
    "\n",
    "# Affichage de la matrice de confusion avec seaborn\n",
    "sns.heatmap(CM, annot=True, center=True, fmt='g', cmap='Blues')\n",
    "plt.xlabel('Predicted')\n",
    "plt.ylabel('Actual')\n",
    "plt.show()"
   ]
  },
  {
   "cell_type": "code",
   "execution_count": 2,
   "metadata": {},
   "outputs": [
    {
     "data": {
      "image/png": "[encoded data removed]",
      "text/plain": [
       "<Figure size 1200x800 with 1 Axes>"
      ]
     },
     "metadata": {},
     "output_type": "display_data"
    }
   ],
   "source": [
    "import matplotlib.pyplot as plt\n",
    "import seaborn as sns\n",
    "import pandas as pd\n",
    "\n",
    "# Données\n",
    "data = {\n",
    "    'Algorithm': ['Logistic regression', 'SVM', 'Multinomial NB', 'RF', 'XGBoost', 'KNN'],\n",
    "    'AUC-ROC': [0.89219, 0.88754, 0.87958, 0.86433, 0.89447, 0.81681],\n",
    "    'CV-Accuracy': [0.76614, 0.75367, 0.74343, 0.74786, 0.77775, 0.73557]\n",
    "}\n",
    "\n",
    "# Conversion en DataFrame\n",
    "df = pd.DataFrame(data)\n",
    "\n",
    "# Conversion en format long pour Seaborn\n",
    "df_long = pd.melt(df, id_vars='Algorithm', value_vars=['AUC-ROC', 'CV-Accuracy'],\n",
    "                  var_name='Metric', value_name='Score')\n",
    "\n",
    "# Initialisation du style Seaborn\n",
    "sns.set(style=\"whitegrid\")\n",
    "\n",
    "# Création du graphique\n",
    "plt.figure(figsize=(12, 8))\n",
    "bar_plot = sns.barplot(x='Algorithm', y='Score', hue='Metric', data=df_long, palette='viridis')\n",
    "\n",
    "# Ajout des labels, du titre et de la légende\n",
    "bar_plot.set_title('Comparaison des performances des différents modèles', fontsize=16)\n",
    "bar_plot.set_xlabel('Algorithmes', fontsize=14)\n",
    "bar_plot.set_ylabel('Scores', fontsize=14)\n",
    "\n",
    "# Affichage des valeurs sur les barres\n",
    "for p in bar_plot.patches:\n",
    "    bar_plot.annotate(format(p.get_height(), '.5f'), \n",
    "                      (p.get_x() + p.get_width() / 2., p.get_height()), \n",
    "                      ha = 'center', va = 'center', \n",
    "                      xytext = (0, 9), \n",
    "                      textcoords = 'offset points')\n",
    "\n",
    "# Ajustement de la mise en page pour éviter le chevauchement\n",
    "plt.tight_layout()\n",
    "\n",
    "plt.show()\n"
   ]
  }
 ],
 "metadata": {
  "kernelspec": {
   "display_name": ".venv",
   "language": "python",
   "name": "python3"
  },
  "language_info": {
   "codemirror_mode": {
    "name": "ipython",
    "version": 3
   },
   "file_extension": ".py",
   "mimetype": "text/x-python",
   "name": "python",
   "nbconvert_exporter": "python",
   "pygments_lexer": "ipython3",
   "version": "3.8.0"
  }
 },
 "nbformat": 4,
 "nbformat_minor": 2
}
